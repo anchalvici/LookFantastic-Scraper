{
  "nbformat": 4,
  "nbformat_minor": 0,
  "metadata": {
    "colab": {
      "provenance": []
    },
    "kernelspec": {
      "name": "python3",
      "display_name": "Python 3"
    },
    "language_info": {
      "name": "python"
    }
  },
  "cells": [
    {
      "cell_type": "code",
      "execution_count": null,
      "metadata": {
        "id": "VabBEkRi9gIU"
      },
      "outputs": [],
      "source": [
        "import pandas as pd\n",
        "import requests\n",
        "from bs4 import BeautifulSoup"
      ]
    },
    {
      "cell_type": "code",
      "source": [
        "product_name = []\n",
        "product_price = []\n",
        "product_link = []\n",
        "product_description = []\n",
        "for i in range(1,2):\n",
        "  link = \"https://www.lookfantastic.co.in/elysium.search?pageNumber=\"+str(i)+\"&search=moisturiser\"\n",
        "  r= requests.get(link)\n",
        "  soup = BeautifulSoup(r.text, \"lxml\")\n",
        "\n",
        "  names = soup.find_all(\"div\",class_=\"productBlock_title\")\n",
        "  for i in names:\n",
        "    name = i.text\n",
        "    product_name.append(name)\n",
        "\n",
        "  prices = soup.find_all(\"div\",class_=\"productBlock_price\")\n",
        "  for i in prices:\n",
        "    price = i.text\n",
        "    product_price.append(price)\n",
        "\n",
        "  links = soup.find_all(\"div\",class_=\"productBlock_itemDetails_wrapper\")\n",
        "  for i in links:\n",
        "    anchor = i.find('a')\n",
        "    href = anchor.get('href')\n",
        "    href = 'https://www.lookfantastic.co.in/'+href\n",
        "    product_link.append(href)\n",
        "    # Send an HTTP request to fetch the content of the web page\n",
        "    response = requests.get(href)\n",
        "\n",
        "    # Check if the request was successful (status code 200)\n",
        "    if response.status_code == 200:\n",
        "    # Parse the HTML content of the web page using BeautifulSoup\n",
        "      soup = BeautifulSoup(response.content, 'html.parser')\n",
        "      desc = soup.find(\"div\",class_=\"productDescription_synopsisContent\").text.strip()\n",
        "      print(desc)\n",
        "      product_description.append(desc)\n",
        "\n",
        "\n"
      ],
      "metadata": {
        "colab": {
          "base_uri": "https://localhost:8080/",
          "height": 1000
        },
        "id": "7Z39wXFc-aqw",
        "outputId": "bfa6a6aa-0adb-413e-d0cb-f389c5a66af8"
      },
      "execution_count": null,
      "outputs": [
        {
          "output_type": "stream",
          "name": "stdout",
          "text": [
            "Suitable for all skin types, including sensitive, Cetaphil’s Moisturising Cream is a deeply nourishing formula that seeks to leave skin feeling soothed and silky-soft.The rich cream harnesses the moisturising benefits of sweet almond oil and panthenol to help defend the skin against dryness. Vitamin E protects the skin barrier function, while niacinamide improves the appearance of the skin tone. Suitable for twice daily use.\n",
            "Ideal for dry and sensitive skin types, Cetaphil’s Moisturising Lotion is a lightweight formula designed to provide non-greasy and long-lasting hydration.Enriched with avocado oil and vitamin E, the lotion provides intense moisture to the skin, while encouraging a soothing and cooling effect. Niacinamide brightens the appearance of the complexion and leaves it feeling ultra-soft and supple, alongside promoting a more unified tone and less visible redness.\n",
            "Aveeno’s body lotion is carefully formulated to deliver essential nourishment to even the most sensitive skin types. Deeply moisturising, the lotion keeps skin feeling soft, supple and more comfortable without aggravating existing irritation.Blended with Prebiotic Colloidal Oatmeal, the body cream harmonises with your skin’s natural microbiome, ensuring that its entire surface is balanced and never stripped of essential goodness. You’ll be treated to a healthier-looking finish while moisture is locked in more effectively, as the lotion works to fortify your barriers for better water retention. Skin will be moisturised for up to 24 hours with regular use. The lotion is unscented, making it compatible with those who are sensitive to fragrances.Suitable for normal, dry and sensitive skin types.\n",
            "Treat dry, chapped lips to the Atoderm Lip Stick from Bioderma. Infused with moisturising Shea Butter and Avocado Oil, the soothing lip balm repairs and regenerates for long-lasting comfort. Features a convenient applicator tip for mess-free use.\n",
            "Fragrance and paraben free.\n",
            "Hypoallergenic.\n",
            "A light-weight, easily absorbed day cream. It hydrates skin and provides very high, broad-spectrum UVA/B photoprotection to help defend skin against the effects of daily exposure to sunlight and help skin maintain its natural protective barrier. Suitable for all skin types, including sensitive skin. • Fragrance-free• Non-comedogenic (does not block pores)• Dermatologist tested\n",
            "Soften your skin with the Bondi Sands Body Moisturiser. Deeply nourishing the skin, this hydrating formula targets dry areas to leave your skin feeling smooth and looking radiant. Enriched with Jojoba, this moisturiser soothes the skin, reducing any puffiness or redness with its cooling formula. Also infused with Vitamin E, the cream offers antioxidant protection, shielding the skin from harmful environmental aggressors. Specially formulated for fake tan lovers, the formula has a unique pH balance to prolong the life of your tan. Targeting those dry areas which usually cause patchiness, this intense moisturiser works to give you a more even and long-lasting colour. Gracing your skin with the sweet smell of Coconut, this lotion will have you looking, smelling and feeling like you’ve just walked off an Australian beach.\n",
            "Discover the award-winning Superfood Glow Priming Moisturiser by Elemis, a hydrating formula that visibly brightens the complexion. Performing as a daily moisturiser, a makeup primer and a highlighter, the formula plumps the skin with intense moisture.A blend of kombucha and fermented ginger encourage a radiant appearance, while fermented green tea oil protects the skin’s microbiome. Illuminating minerals catch and reflect light to help deliver that coveted dewy glow. Skin feels touchably smooth, creating the perfect canvas for makeup application.94% agreed this product left the skin feeling hydrated and soft*92% agreed this product left their skin looking brighter*90% agreed this product helped to prime makeup*90% agreed this product left their skin looking and feeling balanced**Independent User Trials 2019. Results based on 48 people over 2 weeks.\n",
            "Nourish and protect sensitive skin with La Roche-Posay Toleriane Sensitive Moisturiser, a soothing prebiotic moisturiser that works to repair and protect skin's barrier.\n",
            "Formulated specially for sensitive skin, the silky moisturiser glides effortlessly across skin and melts in to deliver hydration with a soothing effect. Comforting skin and helping to reduce sensitivity over time, it is composed with a blend of soothing and protective actives, including Glycerin, Ceramides and Vitamin B3. It also utilises La Roche-Posay Thermal Water for its calming and antioxidant properties. The enveloping texture applies without friction to leave skin feeling comfortable with reduced irritations. The skin's barrier feels repaired and protected.\n",
            "Free from parabens, fragrance, and alcohol. Hypoallergenic. Non-comedogenic.\n",
            "Bulldog’s number one rule is hope for the best, plan for the worst, and with your face it’s all in the planning. Bulldog Natural Skincare Original Moisturiser takes men’s grooming to a new level of excellence by improving the outlook of your skin.\n",
            "Packed with 8 essential oils of green tea, green algae, konjac mannan and vitamin E to help rehydrate the skin, Bulldog Natural Skincare Original Moisturiser is a daily essential that quenches your skin with moisture after washing or shaving.\n",
            "Be loyal to your skin. Bulldog Natural Grooming products never contain parabens, sodium laureth sulfate, artificial colours, synthetic fragrances, or ingredients from animal sources.\n",
            "Directions of use:\n",
            "\n",
            "Use morning and night. \n",
            "Apply evenly to face and neck after cleansing.\n",
            "Embryolisse Lait-Crème Concentré is a three-in-one moisturising lotion, primer and make-up remover. Its rich formula contains essential fatty acids and vitamins to reduce irritation especially after shaving and plump skin for firmer results.\n",
            "Enriched with nutrients and water to balance skin and promote cell renewal to leave skin supple and healthy-looking. The lotion delivers a satin film to reduce dryness discomfort for a soft, radiant complexion and is suitable for use as a repairing mask, to cleanse skin, or as a baby-care product. E.N.\n",
            "Encouraging long-lasting hydration, The Ordinary’s Natural Moisturizing Factors + HA is a lightweight facial cream that stars skin-mimicking actives to quench and visibly strengthen its surface.\n",
            "Fortified with amino acids, fatty acids and ceramides, the moisturiser supports a softening and smoothing effect as it nourishes. Sodium PCA and hyaluronic acid helps lock in the plumping moisture, protecting against dryness to leave the skin feeling supple and looking radiant.\n",
            "Formulated with blemish-prone and oily skin types in mind, the La Roche-Posay Effaclar H Moisturising Cream for Sensitive Blemish-Prone Skin is a minimal ingredient, ultra-hydrating moisturiser.Cooling thermal spring waters are infused into the fine, creamy formula to help refresh lacklustre and fragile skin. The non-greasy texture absorbs quickly, while working to promote a soft complexion by creating a veil of moisture, to nourish even the most sensitive of skin types.\n",
            "Part of the grooming collection inspired by expert barbers, the L’Oréal Paris Men Expert Barber Club Moisturiser will leave skin and facial hair feeling soft and nourished.Formulated to care for short to medium length beards, the light, non-greasy gel moisturiser contains Cedarwood essential oil and helps to soften and nourish facial hair while soothing skin beneath. Moisturising skin with lasting effect, the men's skincare formula will leave facial hair and skin feeling nurtured.Free from parabens, colourants and ingredients from animal origin.\n",
            "Embryolisse Lait-Crème Concentré is a three-in-one moisturising lotion, primer and make-up remover. Its rich formula contains essential fatty acids and vitamins to reduce irritation especially after shaving and plump skin for firmer results.Enriched with nutrients and water to balance skin and promote cell renewal to leave skin supple and healthy-looking. The lotion delivers a satin film to reduce dryness discomfort for a soft, radiant complexion and is suitable for use as a repairing mask, to cleanse skin, or as a baby-care product. E.N.\n",
            "Soothe and soften your little one’s delicate skin with the Daily Care Baby Moisturising Lotion from Aveeno Baby. Suitable for use on the body and face, the ultra-gentle moisturiser provides fast relief from dry skin as well as delivering lasting hydration and comfort for up to 24 hours.Formulated with finely-milled Oatmeal to support and strengthen skin, the non-greasy baby lotion is paediatrician tested and formulated to reduce the risk of allergies to give you peace of mind. Melting in quickly and effortlessly, the cream will leave your little one’s skin soft, smooth and visibly healthier.\n",
            "Developed for sensitive skin types, the La Roche-Posay Toleriane Sensitive Facial Moisturiser seeks to nourish the skin barrier while soothing the appearance of the skin.\n",
            "Enriched with glycerin and ceramides, the rich face cream locks in intense hydration for skin that feels soft and supple all day long. Vitamin B3, or niacinamide, helps to soothe the appearance of skin to minimise the risk of redness caused by sensitivity. The formula is also enhanced with antioxidant spring water, delivering protection from environmental stressors, such as pollution and harsh weather conditions.\n",
            "Instantly hydrate your complexion with the Aveeno Face Calm and Restore Oat Gel Moisturiser.\n",
            "Formulated for sensitive skin, the lightweight and fast-absorbing formula is infused with antioxidant-rich feverfew and nourishing prebiotic oat to help quench dry skin and lock in moisture for up to 24 hours. Use morning and evening for a visibly supple, smooth and radiant result.\n",
            "Pamper the skin and senses with the Aveeno Daily Moisturising Lotion, a rich, creamy formula that offers up to 24 hours of hydration.Lending a soothing effect, the lotion delivers long lasting nourishment to the skin, its vanilla and oat fragrance adding a touch of luxury to your self-care routine. Skin feels touchably soft with a smooth appearance.Ideal for normal to dry skin types.Dermatologist tested.\n",
            "Delivering lightweight moisture, the La Roche Posay face cream helps to revitalise and nourish your complexion. Perfect for anyone suffering from dryness or dehydration, the moisturiser harnesses the powers of Green Technology to lock in essential water for up to 72 hours. This involves using a biofermentation process, combining plant sugars to fill your skin with goodness. It can help to improve the appearance of fine lines caused by a lack of moisture as well as signs of fatigue.The formula is enriched with a whole host of beneficial ingredients such as Hyaluronic Acid. This is taken from a natural origin and helps your skin to draw moisture from the air for a suppler, softer feel. Finished off with La Roche-Posay Thermal Spring Water, the moisturiser soothes and calms the surface of your skin for increased comfort.Over time, skin will seem plumper and smoother for a more luminous radiance. The minimalist formula offers highly targeted treatment to really bring relief to dry areas.Dermatologically tested. Non-comedogenic.Suitable for sensitive skin. Hypoallergenic.\n",
            "Quench the skin’s thirst with Neutrogena’s Hydro Boost Gel Moisturiser, an intensely hydrating formula that leaves the skin feeling invigorated and protected against dryness.Powered by a blend of hyaluronic acid and trehalose, the lightweight moisturiser visibly smooths and nourishes the skin’s moisture barrier, while delivering a plumping effect. Its fresh water-like texture melts into the skin with a dewy finish.\n",
            "Powered by potent bio-active ceramides, the INKEY List’s Repairing and Plumping Moisturiser targets multiple visible signs of skin ageing, while simultaneously delivering a rich boost of hydration.\n",
            "The face cream is designed to improve the look of elasticity and protect against dryness. Enriched with GRANSIL BLUR X-11™, the formula also helps to reduce the appearance of fine lines and nourish the skin barrier.\n",
            "Gently cleanse and refresh with Aveeno's Body Wash; a soap-free, ultra-soothing formula developed specifically for dry, sensitive skin types.Fortified with naturally active, finely milled Colloidal Oatmeal, the luxurious shower gel revitalises and purifies without over-drying or uncomfortable tightness. Infuses skin with essential moisture and hydration, whilst relieving itching sensations and leaving the body smooth, supple and rejuvenated.\n",
            "Fighting the 5 signs of fatigue, L’Oréal Men Expert Hydra Energetic Daily Anti-Fatigue Moisturising Lotion gives your skin a daily boost of hydration and provides non-stop protection throughout the day.\n",
            "Fatigue, stress, nights out, your skin’s not invincible! After a while it seems to lack lustre and become dull with signs of tiredness setting in. Take action with L’Oréal Men Expert Hydra Energetic Daily Anti-Fatigue Moisturising Lotion as it helps to reinforce your skin’s natural resistance with a fresh and hydrating formula designed specifically for men’s skin.\n",
            "Directions of use:\n",
            "\n",
            "After cleansing, apply a small amount of L’Oréal Men Expert Hydra Energetic Daily Anti-Fatigue Moisturising Lotion to your face and neck. \n",
            "Re-apply throughout the day as needed.\n",
            "Balance your complexion with the Bulldog Oil Control Moisturiser; a daily-use hydrator that works to control shine.Purpose built for men, the moisturising formula delivers a veil of non-greasy hydration to skin. Enriched with a skin-loving blend of Witch Hazel, Willow Bark and Juniper, the effective hydrator works to visibly improve skin texture, as well as tackling excess oil to leave skin mattified.Expect a comfortable complexion free from shine.Free from Artificial Colours, Synthetic Fragrances and Ingredients from Animal Sources.\n",
            "Heal and nourish dry cuticles and promote strong nail growth with Jessica Phenomen Oil, a healing and rehydrating cuticle oil. This highly penetrative oil heals and intensively nourishes dry cuticles helping to keeps nails supple.\n",
            "Formulated with key ingredients vitamin E, jojoba, sweet almond oil and rice oil, Jessica Phenomen Oil Intensive Moisturiser can be used on elbows, feet, knees and other areas of rough dry skin that needs deep moisturisation.\n",
            "Directions of use:\n",
            "\n",
            "Massage into your cuticles morning and night then apply Nourish.\n",
            "Massage from right to left in a rotating motion.\n",
            "Do not massage up and down.\n",
            "This oil can be used on any dry, rough skin, such as your elbows, feet and knees or add 10-12 drops in your bath for extra softening.\n",
            "Quench thirsty skin with Neutrogena's Hydro Boost Body Gel Cream; a lightweight, quick-absorbing formula that delivers long-lasting moisture and hydration from top to toe.Powered by Hyaluronic Acid, an ingredient capable of holding up to 1000x its weight in water, the replenishing cream leaves skin feeling soft, supple and revitalised around the clock. Penetrates quickly without greasy residue so you can get dressed immediately.Suitable for sensitive skin. Tested under dermatological control.\n",
            "The Neutrogena Hydro Boost Gel Cream works to deliver refreshing hydration that lasts for up to 72 hours.Infused with an innovative combination of water-binding ingredients, the moisturiser works to nourish the skin’s moisture barrier. Hyaluronic acid delivers intense hydration while botanical trehalose locks in moisture with the refreshing gel formula. Thanks to the natural moisturising factor complex, the gel formula leaves skin with a supple, dewy finish that lasts all day.100% recyclable glass jar and carton.\n",
            "Ideal for dry and sensitive skin types, Cetaphil’s Moisturising Lotion is a lightweight formula designed to provide non-greasy and long-lasting hydration.Enriched with avocado oil and vitamin E, the lotion provides intense moisture to the skin, while encouraging a soothing and cooling effect. Niacinamide brightens the appearance of the complexion and leaves it feeling ultra-soft and supple, alongside promoting a more unified tone and less visible redness.\n",
            "Specially designed for skin prone to redness and dryness, the La Roche-Posay Rosaliac AR Moisturiser helps to improve the look of the skin tone. The cream forms a part of the Toleriane range, working to deliver SPF30 protection against UVA/UVB rays and nourish the skin.Suitable for daily use, the moisturiser’s Rosaliac AR Concentrate combines ambophenol, neurosensine and thermal spa water to help hydrate and encourage a balanced appearance. The quick-absorbing formula leaves the skin feeling soothed with a shine-free finish.\n"
          ]
        },
        {
          "output_type": "error",
          "ename": "KeyboardInterrupt",
          "evalue": "",
          "traceback": [
            "\u001b[0;31m---------------------------------------------------------------------------\u001b[0m",
            "\u001b[0;31mKeyboardInterrupt\u001b[0m                         Traceback (most recent call last)",
            "\u001b[0;32m<ipython-input-7-6aff8cc66032>\u001b[0m in \u001b[0;36m<cell line: 5>\u001b[0;34m()\u001b[0m\n\u001b[1;32m     30\u001b[0m     \u001b[0;32mif\u001b[0m \u001b[0mresponse\u001b[0m\u001b[0;34m.\u001b[0m\u001b[0mstatus_code\u001b[0m \u001b[0;34m==\u001b[0m \u001b[0;36m200\u001b[0m\u001b[0;34m:\u001b[0m\u001b[0;34m\u001b[0m\u001b[0;34m\u001b[0m\u001b[0m\n\u001b[1;32m     31\u001b[0m     \u001b[0;31m# Parse the HTML content of the web page using BeautifulSoup\u001b[0m\u001b[0;34m\u001b[0m\u001b[0;34m\u001b[0m\u001b[0m\n\u001b[0;32m---> 32\u001b[0;31m       \u001b[0msoup\u001b[0m \u001b[0;34m=\u001b[0m \u001b[0mBeautifulSoup\u001b[0m\u001b[0;34m(\u001b[0m\u001b[0mresponse\u001b[0m\u001b[0;34m.\u001b[0m\u001b[0mcontent\u001b[0m\u001b[0;34m,\u001b[0m \u001b[0;34m'html.parser'\u001b[0m\u001b[0;34m)\u001b[0m\u001b[0;34m\u001b[0m\u001b[0;34m\u001b[0m\u001b[0m\n\u001b[0m\u001b[1;32m     33\u001b[0m       \u001b[0mdesc\u001b[0m \u001b[0;34m=\u001b[0m \u001b[0msoup\u001b[0m\u001b[0;34m.\u001b[0m\u001b[0mfind\u001b[0m\u001b[0;34m(\u001b[0m\u001b[0;34m\"div\"\u001b[0m\u001b[0;34m,\u001b[0m\u001b[0mclass_\u001b[0m\u001b[0;34m=\u001b[0m\u001b[0;34m\"productDescription_synopsisContent\"\u001b[0m\u001b[0;34m)\u001b[0m\u001b[0;34m.\u001b[0m\u001b[0mtext\u001b[0m\u001b[0;34m.\u001b[0m\u001b[0mstrip\u001b[0m\u001b[0;34m(\u001b[0m\u001b[0;34m)\u001b[0m\u001b[0;34m\u001b[0m\u001b[0;34m\u001b[0m\u001b[0m\n\u001b[1;32m     34\u001b[0m       \u001b[0mprint\u001b[0m\u001b[0;34m(\u001b[0m\u001b[0mdesc\u001b[0m\u001b[0;34m)\u001b[0m\u001b[0;34m\u001b[0m\u001b[0;34m\u001b[0m\u001b[0m\n",
            "\u001b[0;32m/usr/local/lib/python3.10/dist-packages/bs4/__init__.py\u001b[0m in \u001b[0;36m__init__\u001b[0;34m(self, markup, features, builder, parse_only, from_encoding, exclude_encodings, element_classes, **kwargs)\u001b[0m\n\u001b[1;32m    333\u001b[0m             \u001b[0mself\u001b[0m\u001b[0;34m.\u001b[0m\u001b[0mbuilder\u001b[0m\u001b[0;34m.\u001b[0m\u001b[0minitialize_soup\u001b[0m\u001b[0;34m(\u001b[0m\u001b[0mself\u001b[0m\u001b[0;34m)\u001b[0m\u001b[0;34m\u001b[0m\u001b[0;34m\u001b[0m\u001b[0m\n\u001b[1;32m    334\u001b[0m             \u001b[0;32mtry\u001b[0m\u001b[0;34m:\u001b[0m\u001b[0;34m\u001b[0m\u001b[0;34m\u001b[0m\u001b[0m\n\u001b[0;32m--> 335\u001b[0;31m                 \u001b[0mself\u001b[0m\u001b[0;34m.\u001b[0m\u001b[0m_feed\u001b[0m\u001b[0;34m(\u001b[0m\u001b[0;34m)\u001b[0m\u001b[0;34m\u001b[0m\u001b[0;34m\u001b[0m\u001b[0m\n\u001b[0m\u001b[1;32m    336\u001b[0m                 \u001b[0msuccess\u001b[0m \u001b[0;34m=\u001b[0m \u001b[0;32mTrue\u001b[0m\u001b[0;34m\u001b[0m\u001b[0;34m\u001b[0m\u001b[0m\n\u001b[1;32m    337\u001b[0m                 \u001b[0;32mbreak\u001b[0m\u001b[0;34m\u001b[0m\u001b[0;34m\u001b[0m\u001b[0m\n",
            "\u001b[0;32m/usr/local/lib/python3.10/dist-packages/bs4/__init__.py\u001b[0m in \u001b[0;36m_feed\u001b[0;34m(self)\u001b[0m\n\u001b[1;32m    476\u001b[0m         \u001b[0mself\u001b[0m\u001b[0;34m.\u001b[0m\u001b[0mbuilder\u001b[0m\u001b[0;34m.\u001b[0m\u001b[0mreset\u001b[0m\u001b[0;34m(\u001b[0m\u001b[0;34m)\u001b[0m\u001b[0;34m\u001b[0m\u001b[0;34m\u001b[0m\u001b[0m\n\u001b[1;32m    477\u001b[0m \u001b[0;34m\u001b[0m\u001b[0m\n\u001b[0;32m--> 478\u001b[0;31m         \u001b[0mself\u001b[0m\u001b[0;34m.\u001b[0m\u001b[0mbuilder\u001b[0m\u001b[0;34m.\u001b[0m\u001b[0mfeed\u001b[0m\u001b[0;34m(\u001b[0m\u001b[0mself\u001b[0m\u001b[0;34m.\u001b[0m\u001b[0mmarkup\u001b[0m\u001b[0;34m)\u001b[0m\u001b[0;34m\u001b[0m\u001b[0;34m\u001b[0m\u001b[0m\n\u001b[0m\u001b[1;32m    479\u001b[0m         \u001b[0;31m# Close out any unfinished strings and close all the open tags.\u001b[0m\u001b[0;34m\u001b[0m\u001b[0;34m\u001b[0m\u001b[0m\n\u001b[1;32m    480\u001b[0m         \u001b[0mself\u001b[0m\u001b[0;34m.\u001b[0m\u001b[0mendData\u001b[0m\u001b[0;34m(\u001b[0m\u001b[0;34m)\u001b[0m\u001b[0;34m\u001b[0m\u001b[0;34m\u001b[0m\u001b[0m\n",
            "\u001b[0;32m/usr/local/lib/python3.10/dist-packages/bs4/builder/_htmlparser.py\u001b[0m in \u001b[0;36mfeed\u001b[0;34m(self, markup)\u001b[0m\n\u001b[1;32m    378\u001b[0m         \u001b[0mparser\u001b[0m\u001b[0;34m.\u001b[0m\u001b[0msoup\u001b[0m \u001b[0;34m=\u001b[0m \u001b[0mself\u001b[0m\u001b[0;34m.\u001b[0m\u001b[0msoup\u001b[0m\u001b[0;34m\u001b[0m\u001b[0;34m\u001b[0m\u001b[0m\n\u001b[1;32m    379\u001b[0m         \u001b[0;32mtry\u001b[0m\u001b[0;34m:\u001b[0m\u001b[0;34m\u001b[0m\u001b[0;34m\u001b[0m\u001b[0m\n\u001b[0;32m--> 380\u001b[0;31m             \u001b[0mparser\u001b[0m\u001b[0;34m.\u001b[0m\u001b[0mfeed\u001b[0m\u001b[0;34m(\u001b[0m\u001b[0mmarkup\u001b[0m\u001b[0;34m)\u001b[0m\u001b[0;34m\u001b[0m\u001b[0;34m\u001b[0m\u001b[0m\n\u001b[0m\u001b[1;32m    381\u001b[0m             \u001b[0mparser\u001b[0m\u001b[0;34m.\u001b[0m\u001b[0mclose\u001b[0m\u001b[0;34m(\u001b[0m\u001b[0;34m)\u001b[0m\u001b[0;34m\u001b[0m\u001b[0;34m\u001b[0m\u001b[0m\n\u001b[1;32m    382\u001b[0m         \u001b[0;32mexcept\u001b[0m \u001b[0mAssertionError\u001b[0m \u001b[0;32mas\u001b[0m \u001b[0me\u001b[0m\u001b[0;34m:\u001b[0m\u001b[0;34m\u001b[0m\u001b[0;34m\u001b[0m\u001b[0m\n",
            "\u001b[0;32m/usr/lib/python3.10/html/parser.py\u001b[0m in \u001b[0;36mfeed\u001b[0;34m(self, data)\u001b[0m\n\u001b[1;32m    108\u001b[0m         \"\"\"\n\u001b[1;32m    109\u001b[0m         \u001b[0mself\u001b[0m\u001b[0;34m.\u001b[0m\u001b[0mrawdata\u001b[0m \u001b[0;34m=\u001b[0m \u001b[0mself\u001b[0m\u001b[0;34m.\u001b[0m\u001b[0mrawdata\u001b[0m \u001b[0;34m+\u001b[0m \u001b[0mdata\u001b[0m\u001b[0;34m\u001b[0m\u001b[0;34m\u001b[0m\u001b[0m\n\u001b[0;32m--> 110\u001b[0;31m         \u001b[0mself\u001b[0m\u001b[0;34m.\u001b[0m\u001b[0mgoahead\u001b[0m\u001b[0;34m(\u001b[0m\u001b[0;36m0\u001b[0m\u001b[0;34m)\u001b[0m\u001b[0;34m\u001b[0m\u001b[0;34m\u001b[0m\u001b[0m\n\u001b[0m\u001b[1;32m    111\u001b[0m \u001b[0;34m\u001b[0m\u001b[0m\n\u001b[1;32m    112\u001b[0m     \u001b[0;32mdef\u001b[0m \u001b[0mclose\u001b[0m\u001b[0;34m(\u001b[0m\u001b[0mself\u001b[0m\u001b[0;34m)\u001b[0m\u001b[0;34m:\u001b[0m\u001b[0;34m\u001b[0m\u001b[0;34m\u001b[0m\u001b[0m\n",
            "\u001b[0;32m/usr/lib/python3.10/html/parser.py\u001b[0m in \u001b[0;36mgoahead\u001b[0;34m(self, end)\u001b[0m\n\u001b[1;32m    168\u001b[0m             \u001b[0;32mif\u001b[0m \u001b[0mstartswith\u001b[0m\u001b[0;34m(\u001b[0m\u001b[0;34m'<'\u001b[0m\u001b[0;34m,\u001b[0m \u001b[0mi\u001b[0m\u001b[0;34m)\u001b[0m\u001b[0;34m:\u001b[0m\u001b[0;34m\u001b[0m\u001b[0;34m\u001b[0m\u001b[0m\n\u001b[1;32m    169\u001b[0m                 \u001b[0;32mif\u001b[0m \u001b[0mstarttagopen\u001b[0m\u001b[0;34m.\u001b[0m\u001b[0mmatch\u001b[0m\u001b[0;34m(\u001b[0m\u001b[0mrawdata\u001b[0m\u001b[0;34m,\u001b[0m \u001b[0mi\u001b[0m\u001b[0;34m)\u001b[0m\u001b[0;34m:\u001b[0m \u001b[0;31m# < + letter\u001b[0m\u001b[0;34m\u001b[0m\u001b[0;34m\u001b[0m\u001b[0m\n\u001b[0;32m--> 170\u001b[0;31m                     \u001b[0mk\u001b[0m \u001b[0;34m=\u001b[0m \u001b[0mself\u001b[0m\u001b[0;34m.\u001b[0m\u001b[0mparse_starttag\u001b[0m\u001b[0;34m(\u001b[0m\u001b[0mi\u001b[0m\u001b[0;34m)\u001b[0m\u001b[0;34m\u001b[0m\u001b[0;34m\u001b[0m\u001b[0m\n\u001b[0m\u001b[1;32m    171\u001b[0m                 \u001b[0;32melif\u001b[0m \u001b[0mstartswith\u001b[0m\u001b[0;34m(\u001b[0m\u001b[0;34m\"</\"\u001b[0m\u001b[0;34m,\u001b[0m \u001b[0mi\u001b[0m\u001b[0;34m)\u001b[0m\u001b[0;34m:\u001b[0m\u001b[0;34m\u001b[0m\u001b[0;34m\u001b[0m\u001b[0m\n\u001b[1;32m    172\u001b[0m                     \u001b[0mk\u001b[0m \u001b[0;34m=\u001b[0m \u001b[0mself\u001b[0m\u001b[0;34m.\u001b[0m\u001b[0mparse_endtag\u001b[0m\u001b[0;34m(\u001b[0m\u001b[0mi\u001b[0m\u001b[0;34m)\u001b[0m\u001b[0;34m\u001b[0m\u001b[0;34m\u001b[0m\u001b[0m\n",
            "\u001b[0;32m/usr/lib/python3.10/html/parser.py\u001b[0m in \u001b[0;36mparse_starttag\u001b[0;34m(self, i)\u001b[0m\n\u001b[1;32m    316\u001b[0m             \u001b[0;32mif\u001b[0m \u001b[0;32mnot\u001b[0m \u001b[0mm\u001b[0m\u001b[0;34m:\u001b[0m\u001b[0;34m\u001b[0m\u001b[0;34m\u001b[0m\u001b[0m\n\u001b[1;32m    317\u001b[0m                 \u001b[0;32mbreak\u001b[0m\u001b[0;34m\u001b[0m\u001b[0;34m\u001b[0m\u001b[0m\n\u001b[0;32m--> 318\u001b[0;31m             \u001b[0mattrname\u001b[0m\u001b[0;34m,\u001b[0m \u001b[0mrest\u001b[0m\u001b[0;34m,\u001b[0m \u001b[0mattrvalue\u001b[0m \u001b[0;34m=\u001b[0m \u001b[0mm\u001b[0m\u001b[0;34m.\u001b[0m\u001b[0mgroup\u001b[0m\u001b[0;34m(\u001b[0m\u001b[0;36m1\u001b[0m\u001b[0;34m,\u001b[0m \u001b[0;36m2\u001b[0m\u001b[0;34m,\u001b[0m \u001b[0;36m3\u001b[0m\u001b[0;34m)\u001b[0m\u001b[0;34m\u001b[0m\u001b[0;34m\u001b[0m\u001b[0m\n\u001b[0m\u001b[1;32m    319\u001b[0m             \u001b[0;32mif\u001b[0m \u001b[0;32mnot\u001b[0m \u001b[0mrest\u001b[0m\u001b[0;34m:\u001b[0m\u001b[0;34m\u001b[0m\u001b[0;34m\u001b[0m\u001b[0m\n\u001b[1;32m    320\u001b[0m                 \u001b[0mattrvalue\u001b[0m \u001b[0;34m=\u001b[0m \u001b[0;32mNone\u001b[0m\u001b[0;34m\u001b[0m\u001b[0;34m\u001b[0m\u001b[0m\n",
            "\u001b[0;31mKeyboardInterrupt\u001b[0m: "
          ]
        }
      ]
    },
    {
      "cell_type": "code",
      "source": [
        "anchor"
      ],
      "metadata": {
        "colab": {
          "base_uri": "https://localhost:8080/"
        },
        "id": "AVc1hbWUHbju",
        "outputId": "c9626ffc-5c67-4d2d-bd87-055485a10380"
      },
      "execution_count": null,
      "outputs": [
        {
          "output_type": "execute_result",
          "data": {
            "text/plain": [
              "17"
            ]
          },
          "metadata": {},
          "execution_count": 3
        }
      ]
    }
  ]
}